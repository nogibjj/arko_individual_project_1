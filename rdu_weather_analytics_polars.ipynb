{
 "cells": [
  {
   "cell_type": "code",
   "execution_count": 12,
   "metadata": {},
   "outputs": [],
   "source": [
    "import os\n",
    "from pathlib import Path\n",
    "import polars as pl\n",
    "import matplotlib.pyplot as plt\n",
    "from lib.helper import save_plot"
   ]
  },
  {
   "cell_type": "code",
   "execution_count": 13,
   "metadata": {},
   "outputs": [
    {
     "data": {
      "text/html": [
       "<div><style>\n",
       ".dataframe > thead > tr,\n",
       ".dataframe > tbody > tr {\n",
       "  text-align: right;\n",
       "  white-space: pre-wrap;\n",
       "}\n",
       "</style>\n",
       "<small>shape: (5, 7)</small><table border=\"1\" class=\"dataframe\"><thead><tr><th>date</th><th>tmin</th><th>tmax</th><th>prcp</th><th>snow</th><th>snwd</th><th>awnd</th></tr><tr><td>str</td><td>i64</td><td>i64</td><td>f64</td><td>f64</td><td>f64</td><td>f64</td></tr></thead><tbody><tr><td>&quot;2017-01-01&quot;</td><td>41</td><td>50</td><td>0.54</td><td>0.0</td><td>0.0</td><td>6.49</td></tr><tr><td>&quot;2017-01-08&quot;</td><td>15</td><td>27</td><td>0.0</td><td>0.0</td><td>1.2</td><td>4.92</td></tr><tr><td>&quot;2017-01-16&quot;</td><td>44</td><td>51</td><td>0.0</td><td>0.0</td><td>0.0</td><td>4.47</td></tr><tr><td>&quot;2017-01-23&quot;</td><td>43</td><td>60</td><td>0.28</td><td>0.0</td><td>0.0</td><td>9.84</td></tr><tr><td>&quot;2017-02-07&quot;</td><td>49</td><td>76</td><td>0.0</td><td>0.0</td><td>0.0</td><td>12.53</td></tr></tbody></table></div>"
      ],
      "text/plain": [
       "shape: (5, 7)\n",
       "┌────────────┬──────┬──────┬──────┬──────┬──────┬───────┐\n",
       "│ date       ┆ tmin ┆ tmax ┆ prcp ┆ snow ┆ snwd ┆ awnd  │\n",
       "│ ---        ┆ ---  ┆ ---  ┆ ---  ┆ ---  ┆ ---  ┆ ---   │\n",
       "│ str        ┆ i64  ┆ i64  ┆ f64  ┆ f64  ┆ f64  ┆ f64   │\n",
       "╞════════════╪══════╪══════╪══════╪══════╪══════╪═══════╡\n",
       "│ 2017-01-01 ┆ 41   ┆ 50   ┆ 0.54 ┆ 0.0  ┆ 0.0  ┆ 6.49  │\n",
       "│ 2017-01-08 ┆ 15   ┆ 27   ┆ 0.0  ┆ 0.0  ┆ 1.2  ┆ 4.92  │\n",
       "│ 2017-01-16 ┆ 44   ┆ 51   ┆ 0.0  ┆ 0.0  ┆ 0.0  ┆ 4.47  │\n",
       "│ 2017-01-23 ┆ 43   ┆ 60   ┆ 0.28 ┆ 0.0  ┆ 0.0  ┆ 9.84  │\n",
       "│ 2017-02-07 ┆ 49   ┆ 76   ┆ 0.0  ┆ 0.0  ┆ 0.0  ┆ 12.53 │\n",
       "└────────────┴──────┴──────┴──────┴──────┴──────┴───────┘"
      ]
     },
     "execution_count": 13,
     "metadata": {},
     "output_type": "execute_result"
    }
   ],
   "source": [
    "data_file = \"data/rdu-weather-history.csv\"\n",
    "df= pl.read_csv(data_file, separator=\";\")\n",
    "df.head(5)\n"
   ]
  },
  {
   "cell_type": "code",
   "execution_count": 14,
   "metadata": {},
   "outputs": [
    {
     "data": {
      "text/html": [
       "<div><style>\n",
       ".dataframe > thead > tr,\n",
       ".dataframe > tbody > tr {\n",
       "  text-align: right;\n",
       "  white-space: pre-wrap;\n",
       "}\n",
       "</style>\n",
       "<small>shape: (9, 8)</small><table border=\"1\" class=\"dataframe\"><thead><tr><th>statistic</th><th>date</th><th>tmin</th><th>tmax</th><th>prcp</th><th>snow</th><th>snwd</th><th>awnd</th></tr><tr><td>str</td><td>str</td><td>f64</td><td>f64</td><td>f64</td><td>f64</td><td>f64</td><td>f64</td></tr></thead><tbody><tr><td>&quot;count&quot;</td><td>&quot;1977&quot;</td><td>1977.0</td><td>1977.0</td><td>1977.0</td><td>1977.0</td><td>1976.0</td><td>1973.0</td></tr><tr><td>&quot;null_count&quot;</td><td>&quot;0&quot;</td><td>0.0</td><td>0.0</td><td>0.0</td><td>0.0</td><td>1.0</td><td>4.0</td></tr><tr><td>&quot;mean&quot;</td><td>null</td><td>51.088012</td><td>72.298938</td><td>0.135771</td><td>0.012838</td><td>0.016953</td><td>6.074805</td></tr><tr><td>&quot;std&quot;</td><td>null</td><td>15.889527</td><td>15.796087</td><td>0.370521</td><td>0.227433</td><td>0.215338</td><td>2.954427</td></tr><tr><td>&quot;min&quot;</td><td>&quot;2017-01-01&quot;</td><td>4.0</td><td>27.0</td><td>0.0</td><td>0.0</td><td>0.0</td><td>0.0</td></tr><tr><td>&quot;25%&quot;</td><td>null</td><td>37.0</td><td>60.0</td><td>0.0</td><td>0.0</td><td>0.0</td><td>3.8</td></tr><tr><td>&quot;50%&quot;</td><td>null</td><td>52.0</td><td>74.0</td><td>0.0</td><td>0.0</td><td>0.0</td><td>5.8</td></tr><tr><td>&quot;75%&quot;</td><td>null</td><td>66.0</td><td>86.0</td><td>0.06</td><td>0.0</td><td>0.0</td><td>7.8</td></tr><tr><td>&quot;max&quot;</td><td>&quot;2022-05-31&quot;</td><td>78.0</td><td>102.0</td><td>4.96</td><td>7.0</td><td>5.9</td><td>20.36</td></tr></tbody></table></div>"
      ],
      "text/plain": [
       "shape: (9, 8)\n",
       "┌────────────┬────────────┬───────────┬───────────┬──────────┬──────────┬──────────┬──────────┐\n",
       "│ statistic  ┆ date       ┆ tmin      ┆ tmax      ┆ prcp     ┆ snow     ┆ snwd     ┆ awnd     │\n",
       "│ ---        ┆ ---        ┆ ---       ┆ ---       ┆ ---      ┆ ---      ┆ ---      ┆ ---      │\n",
       "│ str        ┆ str        ┆ f64       ┆ f64       ┆ f64      ┆ f64      ┆ f64      ┆ f64      │\n",
       "╞════════════╪════════════╪═══════════╪═══════════╪══════════╪══════════╪══════════╪══════════╡\n",
       "│ count      ┆ 1977       ┆ 1977.0    ┆ 1977.0    ┆ 1977.0   ┆ 1977.0   ┆ 1976.0   ┆ 1973.0   │\n",
       "│ null_count ┆ 0          ┆ 0.0       ┆ 0.0       ┆ 0.0      ┆ 0.0      ┆ 1.0      ┆ 4.0      │\n",
       "│ mean       ┆ null       ┆ 51.088012 ┆ 72.298938 ┆ 0.135771 ┆ 0.012838 ┆ 0.016953 ┆ 6.074805 │\n",
       "│ std        ┆ null       ┆ 15.889527 ┆ 15.796087 ┆ 0.370521 ┆ 0.227433 ┆ 0.215338 ┆ 2.954427 │\n",
       "│ min        ┆ 2017-01-01 ┆ 4.0       ┆ 27.0      ┆ 0.0      ┆ 0.0      ┆ 0.0      ┆ 0.0      │\n",
       "│ 25%        ┆ null       ┆ 37.0      ┆ 60.0      ┆ 0.0      ┆ 0.0      ┆ 0.0      ┆ 3.8      │\n",
       "│ 50%        ┆ null       ┆ 52.0      ┆ 74.0      ┆ 0.0      ┆ 0.0      ┆ 0.0      ┆ 5.8      │\n",
       "│ 75%        ┆ null       ┆ 66.0      ┆ 86.0      ┆ 0.06     ┆ 0.0      ┆ 0.0      ┆ 7.8      │\n",
       "│ max        ┆ 2022-05-31 ┆ 78.0      ┆ 102.0     ┆ 4.96     ┆ 7.0      ┆ 5.9      ┆ 20.36    │\n",
       "└────────────┴────────────┴───────────┴───────────┴──────────┴──────────┴──────────┴──────────┘"
      ]
     },
     "execution_count": 14,
     "metadata": {},
     "output_type": "execute_result"
    }
   ],
   "source": [
    "df.describe()"
   ]
  },
  {
   "cell_type": "code",
   "execution_count": 15,
   "metadata": {},
   "outputs": [],
   "source": [
    "df = df.with_columns(pl.col(\"date\").cast(pl.Date))\n",
    "df = df.with_columns([\n",
    "    pl.col('date').dt.month().alias('month'),\n",
    "    pl.col('date').dt.year().alias('year')\n",
    "])\n",
    "\n",
    "# Group by month and calculate mean for relevant columns\n",
    "monthly_avg = df.group_by([\"month\"]).agg([\n",
    "    pl.col(\"tmin\").mean().alias(\"tmin_avg\"),\n",
    "    pl.col(\"tmax\").mean().alias(\"tmax_avg\"),\n",
    "    pl.col(\"prcp\").mean().alias(\"prcp_avg\"),\n",
    "    pl.col(\"snow\").mean().alias(\"snow_avg\")\n",
    "]).sort([\"month\"])"
   ]
  },
  {
   "cell_type": "code",
   "execution_count": 16,
   "metadata": {},
   "outputs": [
    {
     "data": {
      "text/html": [
       "<div><style>\n",
       ".dataframe > thead > tr,\n",
       ".dataframe > tbody > tr {\n",
       "  text-align: right;\n",
       "  white-space: pre-wrap;\n",
       "}\n",
       "</style>\n",
       "<small>shape: (12, 5)</small><table border=\"1\" class=\"dataframe\"><thead><tr><th>month</th><th>tmin_avg</th><th>tmax_avg</th><th>prcp_avg</th><th>snow_avg</th></tr><tr><td>i8</td><td>f64</td><td>f64</td><td>f64</td><td>f64</td></tr></thead><tbody><tr><td>1</td><td>32.360215</td><td>51.978495</td><td>0.147419</td><td>0.063333</td></tr><tr><td>2</td><td>37.87574</td><td>59.331361</td><td>0.112959</td><td>0.014793</td></tr><tr><td>3</td><td>41.795699</td><td>63.543011</td><td>0.10871</td><td>0.010215</td></tr><tr><td>4</td><td>49.116667</td><td>73.244444</td><td>0.152944</td><td>0.0</td></tr><tr><td>5</td><td>59.317204</td><td>80.88172</td><td>0.14043</td><td>0.0</td></tr><tr><td>&hellip;</td><td>&hellip;</td><td>&hellip;</td><td>&hellip;</td><td>&hellip;</td></tr><tr><td>8</td><td>69.554839</td><td>89.070968</td><td>0.177742</td><td>0.0</td></tr><tr><td>9</td><td>63.86</td><td>83.786667</td><td>0.1282</td><td>0.0</td></tr><tr><td>10</td><td>53.587097</td><td>75.425806</td><td>0.145161</td><td>0.0</td></tr><tr><td>11</td><td>38.946667</td><td>61.486667</td><td>0.117533</td><td>0.0</td></tr><tr><td>12</td><td>35.993548</td><td>56.509677</td><td>0.123161</td><td>0.059355</td></tr></tbody></table></div>"
      ],
      "text/plain": [
       "shape: (12, 5)\n",
       "┌───────┬───────────┬───────────┬──────────┬──────────┐\n",
       "│ month ┆ tmin_avg  ┆ tmax_avg  ┆ prcp_avg ┆ snow_avg │\n",
       "│ ---   ┆ ---       ┆ ---       ┆ ---      ┆ ---      │\n",
       "│ i8    ┆ f64       ┆ f64       ┆ f64      ┆ f64      │\n",
       "╞═══════╪═══════════╪═══════════╪══════════╪══════════╡\n",
       "│ 1     ┆ 32.360215 ┆ 51.978495 ┆ 0.147419 ┆ 0.063333 │\n",
       "│ 2     ┆ 37.87574  ┆ 59.331361 ┆ 0.112959 ┆ 0.014793 │\n",
       "│ 3     ┆ 41.795699 ┆ 63.543011 ┆ 0.10871  ┆ 0.010215 │\n",
       "│ 4     ┆ 49.116667 ┆ 73.244444 ┆ 0.152944 ┆ 0.0      │\n",
       "│ 5     ┆ 59.317204 ┆ 80.88172  ┆ 0.14043  ┆ 0.0      │\n",
       "│ …     ┆ …         ┆ …         ┆ …        ┆ …        │\n",
       "│ 8     ┆ 69.554839 ┆ 89.070968 ┆ 0.177742 ┆ 0.0      │\n",
       "│ 9     ┆ 63.86     ┆ 83.786667 ┆ 0.1282   ┆ 0.0      │\n",
       "│ 10    ┆ 53.587097 ┆ 75.425806 ┆ 0.145161 ┆ 0.0      │\n",
       "│ 11    ┆ 38.946667 ┆ 61.486667 ┆ 0.117533 ┆ 0.0      │\n",
       "│ 12    ┆ 35.993548 ┆ 56.509677 ┆ 0.123161 ┆ 0.059355 │\n",
       "└───────┴───────────┴───────────┴──────────┴──────────┘"
      ]
     },
     "execution_count": 16,
     "metadata": {},
     "output_type": "execute_result"
    }
   ],
   "source": [
    "monthly_avg"
   ]
  },
  {
   "cell_type": "code",
   "execution_count": 22,
   "metadata": {},
   "outputs": [],
   "source": [
    "# Plotting\n",
    "plt.figure(figsize=(12, 6))\n",
    "\n",
    "# Plotting tmin_avg and tmax_avg\n",
    "plt.plot(monthly_avg[\"month\"], monthly_avg[\"tmin_avg\"], marker='o', label='Avg Min Temperature (°F)', color='blue')\n",
    "plt.plot(monthly_avg[\"month\"], monthly_avg[\"tmax_avg\"], marker='o', label='Avg Max Temperature (°F)', color='red')\n",
    "\n",
    "# Adding second y-axis for precipitation\n",
    "ax2 = plt.gca().twinx()\n",
    "ax2.bar(monthly_avg[\"month\"], monthly_avg[\"prcp_avg\"], alpha=0.3, color='green', label='Avg Precipitation (inches)')\n",
    "\n",
    "# Labels and title\n",
    "plt.title('Monthly Average Temperature and Precipitation')\n",
    "plt.xlabel('Month')\n",
    "plt.ylabel('Temperature (°F)')\n",
    "ax2.set_ylabel('Precipitation (inches)')\n",
    "plt.xticks(monthly_avg[\"month\"])\n",
    "plt.grid()\n",
    "\n",
    "# Add legends\n",
    "plt.legend(loc='upper left')\n",
    "ax2.legend(loc='upper right')\n",
    "\n",
    "# plt.show()\n",
    "plt.close()"
   ]
  },
  {
   "cell_type": "code",
   "execution_count": 19,
   "metadata": {},
   "outputs": [
    {
     "name": "stdout",
     "output_type": "stream",
     "text": [
      "Plot saved as plots/temp_precip_plot.png\n"
     ]
    },
    {
     "data": {
      "text/plain": [
       "<Figure size 640x480 with 0 Axes>"
      ]
     },
     "metadata": {},
     "output_type": "display_data"
    }
   ],
   "source": [
    "\n",
    "save_plot(plt, \"plots/temp_precip_plot\")"
   ]
  },
  {
   "cell_type": "code",
   "execution_count": null,
   "metadata": {},
   "outputs": [],
   "source": []
  }
 ],
 "metadata": {
  "kernelspec": {
   "display_name": "venv",
   "language": "python",
   "name": "python3"
  },
  "language_info": {
   "codemirror_mode": {
    "name": "ipython",
    "version": 3
   },
   "file_extension": ".py",
   "mimetype": "text/x-python",
   "name": "python",
   "nbconvert_exporter": "python",
   "pygments_lexer": "ipython3",
   "version": "3.8.5"
  }
 },
 "nbformat": 4,
 "nbformat_minor": 2
}
